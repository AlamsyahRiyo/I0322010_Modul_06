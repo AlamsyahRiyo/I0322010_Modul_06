{
 "cells": [
  {
   "attachments": {},
   "cell_type": "markdown",
   "metadata": {},
   "source": [
    "Bagian-bagian Fungsi"
   ]
  },
  {
   "cell_type": "code",
   "execution_count": 2,
   "metadata": {},
   "outputs": [],
   "source": [
    "def function_name(argumen):\n",
    "    # badan fungsi\n",
    "\n",
    "    return"
   ]
  },
  {
   "attachments": {},
   "cell_type": "markdown",
   "metadata": {},
   "source": [
    "Membuat dan Memanggil Fungsi"
   ]
  },
  {
   "cell_type": "code",
   "execution_count": null,
   "metadata": {},
   "outputs": [],
   "source": [
    "def salam():\n",
    "    print(\"Halo Praktikan!\")"
   ]
  },
  {
   "cell_type": "code",
   "execution_count": null,
   "metadata": {},
   "outputs": [],
   "source": [
    "def salam():\n",
    "    print(\"Halo Praktikan!\")\n",
    "\n",
    "# memanggil fungsi\n",
    "salam()"
   ]
  },
  {
   "cell_type": "code",
   "execution_count": null,
   "metadata": {},
   "outputs": [],
   "source": [
    "def greet():\n",
    "    print('Hello World!')\n",
    "\n",
    "# memanggil fungsi\n",
    "greet()\n",
    "\n",
    "print('Ada di luar fungsi')"
   ]
  },
  {
   "attachments": {},
   "cell_type": "markdown",
   "metadata": {},
   "source": [
    "Default Argument"
   ]
  },
  {
   "cell_type": "code",
   "execution_count": null,
   "metadata": {},
   "outputs": [],
   "source": [
    "# Bentuk syntax\n",
    "''' \n",
    "\n",
    "def fungsi(argument):\n",
    "def fungsi(argument = nilai defaultnya): \n",
    "\n",
    "'''"
   ]
  },
  {
   "cell_type": "code",
   "execution_count": 6,
   "metadata": {},
   "outputs": [
    {
     "name": "stdout",
     "output_type": "stream",
     "text": [
      "Sum:  9\n"
     ]
    }
   ],
   "source": [
    "# Contoh keseluruhan\n",
    "def add_numbers(num1, num2):\n",
    "    sum = num1 + num2\n",
    "    print(\"Sum: \",sum)\n",
    "\n",
    "add_numbers(5, 4)\n",
    "\n"
   ]
  },
  {
   "cell_type": "code",
   "execution_count": 11,
   "metadata": {},
   "outputs": [
    {
     "name": "stdout",
     "output_type": "stream",
     "text": [
      "Hallo Cakep\n",
      "Hallo Ganteng\n"
     ]
    }
   ],
   "source": [
    "# Contoh 1\n",
    "def say_hello(nama = \"Ganteng\"):\n",
    "    '''fungsi dengan default argument'''\n",
    "    print(f\"Hallo {nama}\")\n",
    "\n",
    "say_hello(\"Cakep\")\n",
    "say_hello()"
   ]
  },
  {
   "cell_type": "code",
   "execution_count": 13,
   "metadata": {},
   "outputs": [
    {
     "name": "stdout",
     "output_type": "stream",
     "text": [
      "Hai Ucup, kamu Ganteeeng\n",
      "Hai Kamu, Apa kabar?\n"
     ]
    }
   ],
   "source": [
    "# Contoh 2\n",
    "def sapa_dia(nama, pesan = \"Apa kabar?\"):\n",
    "    '''fungsi dengan satu input biasa, \n",
    "    dan satu default argument'''\n",
    "    print(f\"Hai {nama}, {pesan}\")\n",
    "\n",
    "sapa_dia(\"Ucup\",\"kamu Ganteeeng\")\n",
    "sapa_dia(\"Kamu\")"
   ]
  },
  {
   "cell_type": "code",
   "execution_count": null,
   "metadata": {},
   "outputs": [],
   "source": [
    "# Contoh 3\n",
    "def hitung_pangkat(angka, pangkat=2):\n",
    "    hasil = angka**pangkat\n",
    "    return hasil\n",
    "\n",
    "print(hitung_pangkat(2,4))\n",
    "\n",
    "hasil = hitung_pangkat(pangkat=3, angka=5)\n",
    "print(hasil)"
   ]
  },
  {
   "cell_type": "code",
   "execution_count": null,
   "metadata": {},
   "outputs": [],
   "source": [
    "# Contoh 4\n",
    "def fungsi(input1=1,input2=2,input3=3,input4=4):\n",
    "    hasil = input1 + input2 + input3 + input4\n",
    "    return hasil\n",
    "\n",
    "print(fungsi())\n",
    "print(fungsi(input3=10))"
   ]
  },
  {
   "attachments": {},
   "cell_type": "markdown",
   "metadata": {},
   "source": [
    "Keyword / Named Argument"
   ]
  },
  {
   "cell_type": "code",
   "execution_count": null,
   "metadata": {},
   "outputs": [],
   "source": [
    "def student(firstname, lastname):\n",
    "    print(firstname, lastname)\n",
    "\n",
    "# Keyword arguments\n",
    "student(firstname='POSI', lastname='2020')\n",
    "student(lastname='2020', firstname='POSI')"
   ]
  },
  {
   "attachments": {},
   "cell_type": "markdown",
   "metadata": {},
   "source": [
    "Positional Argument"
   ]
  },
  {
   "cell_type": "code",
   "execution_count": null,
   "metadata": {},
   "outputs": [],
   "source": [
    "def identitas(nama, umur):\n",
    "    print(\"Hi, Saya\", nama)\n",
    "    print(\"Umur saya adalah\", umur)\n",
    " \n",
    "# Hasilnya adalah benar karena urutannya benar\n",
    "print(\"Case-1:\")\n",
    "identitas(\"Andeca\", 27)\n",
    "\n",
    "# Bandingkan dengan yang ke dua ini \n",
    "print(\"\\nCase-2:\")\n",
    "identitas(27, \"Andeca\")"
   ]
  },
  {
   "attachments": {},
   "cell_type": "markdown",
   "metadata": {},
   "source": [
    "*args"
   ]
  },
  {
   "cell_type": "code",
   "execution_count": null,
   "metadata": {},
   "outputs": [],
   "source": []
  },
  {
   "attachments": {},
   "cell_type": "markdown",
   "metadata": {},
   "source": [
    "**kargs"
   ]
  },
  {
   "cell_type": "code",
   "execution_count": null,
   "metadata": {},
   "outputs": [],
   "source": []
  },
  {
   "attachments": {},
   "cell_type": "markdown",
   "metadata": {},
   "source": [
    "Fungsi Return Value"
   ]
  },
  {
   "cell_type": "code",
   "execution_count": null,
   "metadata": {},
   "outputs": [],
   "source": [
    "def find_square(num):\n",
    "    result = num * num\n",
    "    return result\n",
    "\n",
    "square = find_square(3)\n",
    "\n",
    "print('Square:',square)\n",
    "\n",
    "# Output = Square: 9"
   ]
  },
  {
   "attachments": {},
   "cell_type": "markdown",
   "metadata": {},
   "source": [
    "List pada Fungsi"
   ]
  },
  {
   "cell_type": "code",
   "execution_count": 19,
   "metadata": {},
   "outputs": [
    {
     "name": "stdout",
     "output_type": "stream",
     "text": [
      "apple\n",
      "banana\n",
      "cherry\n"
     ]
    }
   ],
   "source": [
    "def my_function(food):\n",
    "  for x in food:\n",
    "    print(x)\n",
    "\n",
    "fruits = [\"apple\", \"banana\", \"cherry\"]\n",
    "\n",
    "my_function(fruits)"
   ]
  },
  {
   "attachments": {},
   "cell_type": "markdown",
   "metadata": {},
   "source": [
    "Rekursi Faktorial"
   ]
  },
  {
   "cell_type": "code",
   "execution_count": 24,
   "metadata": {},
   "outputs": [
    {
     "name": "stdout",
     "output_type": "stream",
     "text": [
      "3! = 6\n"
     ]
    }
   ],
   "source": [
    "def faktorial(a):\n",
    "   if a == 1:\n",
    "      return (a)\n",
    "   else:\n",
    "      return (a*faktorial(a-1))\n",
    "\n",
    "bil = int(input(\"Masukan Bilangan : \"))\n",
    "\n",
    "print(\"%d! = %d\" % (bil, faktorial(bil)))"
   ]
  }
 ],
 "metadata": {
  "kernelspec": {
   "display_name": "Python 3",
   "language": "python",
   "name": "python3"
  },
  "language_info": {
   "codemirror_mode": {
    "name": "ipython",
    "version": 3
   },
   "file_extension": ".py",
   "mimetype": "text/x-python",
   "name": "python",
   "nbconvert_exporter": "python",
   "pygments_lexer": "ipython3",
   "version": "3.9.1"
  },
  "orig_nbformat": 4
 },
 "nbformat": 4,
 "nbformat_minor": 2
}
