{
 "cells": [
  {
   "cell_type": "code",
   "execution_count": null,
   "metadata": {},
   "outputs": [],
   "source": []
  },
  {
   "cell_type": "code",
   "execution_count": 1,
   "metadata": {},
   "outputs": [
    {
     "name": "stdout",
     "output_type": "stream",
     "text": [
      "Deret Fibonacci\n",
      "0 1 1 "
     ]
    }
   ],
   "source": [
    "# Rekursi Fibonacci\n",
    "'''\n",
    "Bilangan fibonacci adalah bilangan yang memiliki suku awal 0 atau 1 \n",
    "dan suku-suku berikutnya merupakan penjumlahan dari dua suku sebelumnya.\n",
    "'''\n",
    "\n",
    "def fibonacci(n):\n",
    "   if n == 0 or n == 1:\n",
    "      return n\n",
    "   else:\n",
    "      return (fibonacci(n-1) + fibonacci(n-2))\n",
    "\n",
    "x = int(input(\"Masukan Batas Deret Bilangan Fibonacci : \"))\n",
    "print(\"Deret Fibonacci\")\n",
    "for i in range(x):\n",
    "   print(fibonacci(i),end=' ')"
   ]
  }
 ],
 "metadata": {
  "kernelspec": {
   "display_name": "Python 3",
   "language": "python",
   "name": "python3"
  },
  "language_info": {
   "codemirror_mode": {
    "name": "ipython",
    "version": 3
   },
   "file_extension": ".py",
   "mimetype": "text/x-python",
   "name": "python",
   "nbconvert_exporter": "python",
   "pygments_lexer": "ipython3",
   "version": "3.9.0 (tags/v3.9.0:9cf6752, Oct  5 2020, 15:34:40) [MSC v.1927 64 bit (AMD64)]"
  },
  "orig_nbformat": 4,
  "vscode": {
   "interpreter": {
    "hash": "5addf786bcd861d1ce5006f23111f8cbb206731e5b61b0a5632ba9e0252558a8"
   }
  }
 },
 "nbformat": 4,
 "nbformat_minor": 2
}
