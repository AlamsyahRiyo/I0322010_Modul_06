{
 "cells": [
  {
   "attachments": {},
   "cell_type": "markdown",
   "metadata": {},
   "source": [
    "1. Tulis program dengan fungsi untuk menentukan angka yang paling besar dari tiga angka yang diberikan!\n",
    "     ###### Note: Angka ditentukan sendiri oleh praktikan"
   ]
  },
  {
   "cell_type": "code",
   "execution_count": null,
   "metadata": {},
   "outputs": [],
   "source": [
    "# Kerjakan Nomor 1 di bawah ini\n",
    "\n",
    "def angkapaling_besar(angka_pertama,angka_kedua,angka_ketiga):\n",
    "    if angka_pertama>angka_kedua and angka_pertama>angka_ketiga:\n",
    "        return angka_pertama\n",
    "    elif angka_kedua>angka_pertama and angka_kedua>angka_ketiga:\n",
    "        return angka_kedua\n",
    "    else:\n",
    "        return angka_ketiga\n",
    "    \n",
    "print(\"Dapat ditentukan angka yang paling besar dari ketiga angka yang diberikan yaitu\",angkapaling_besar(15,8,4))\n",
    "\n"
   ]
  },
  {
   "attachments": {},
   "cell_type": "markdown",
   "metadata": {},
   "source": [
    "2. Tulis fungsi Python yang mengambil list awal dan menampilkan list baru dengan angka unik (tidak ada angka yang sama) dari list yang pertama."
   ]
  },
  {
   "cell_type": "code",
   "execution_count": null,
   "metadata": {},
   "outputs": [],
   "source": [
    "list_awal = [1,1,1,1,2,2,3,3,3,3,4,5,6,6,6,6,6,7,7,7,8,9,10]"
   ]
  },
  {
   "cell_type": "code",
   "execution_count": null,
   "metadata": {},
   "outputs": [],
   "source": [
    "list_lama = [88,56,42,12,5,168,234,211,100,98,87,34,42,65]\n",
    "\n",
    "\n",
    "def angka_unik(list_lama) :\n",
    "    list_baru = []\n",
    "    for angka in list_lama :\n",
    "        if angka not in list_baru :\n",
    "            list_baru.append(angka)\n",
    "    return list_baru\n",
    "\n",
    "print(angka_unik(list_lama))\n",
    "\n"
   ]
  },
  {
   "attachments": {},
   "cell_type": "markdown",
   "metadata": {},
   "source": [
    "3. Cari dan tampilkan bilangan genap yang ada pada list dibawah ini menggunakan fungsi built-in (wajib memakai fungsi lambda) dan tampilkan dalam format menurun (menggunakan perulangan)! "
   ]
  },
  {
   "cell_type": "code",
   "execution_count": 11,
   "metadata": {},
   "outputs": [],
   "source": [
    "list_angka = [88,56,42,12,5,168,234,211,100,98,87,34,42,65]\n"
   ]
  },
  {
   "cell_type": "code",
   "execution_count": 18,
   "metadata": {},
   "outputs": [],
   "source": [
    "list = [88,56,42,12,5,168,234,211,100,98,87,34,42,65]\n",
    "\n",
    "\n",
    "genap = list(filter(lambda x: x % 2 == 0, list))\n",
    "\n",
    "\n",
    "for i in range(len(genap)-1, -1, -1):\n",
    "    print(genap[i])"
   ]
  }
 ],
 "metadata": {
  "kernelspec": {
   "display_name": "Python 3",
   "language": "python",
   "name": "python3"
  },
  "language_info": {
   "codemirror_mode": {
    "name": "ipython",
    "version": 3
   },
   "file_extension": ".py",
   "mimetype": "text/x-python",
   "name": "python",
   "nbconvert_exporter": "python",
   "pygments_lexer": "ipython3",
   "version": "3.10.11"
  },
  "orig_nbformat": 4,
  "vscode": {
   "interpreter": {
    "hash": "5addf786bcd861d1ce5006f23111f8cbb206731e5b61b0a5632ba9e0252558a8"
   }
  }
 },
 "nbformat": 4,
 "nbformat_minor": 2
}
