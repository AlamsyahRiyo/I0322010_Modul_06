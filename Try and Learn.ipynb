{
 "cells": [
  {
   "cell_type": "code",
   "execution_count": null,
   "metadata": {},
   "outputs": [],
   "source": []
  },
  {
   "cell_type": "code",
   "execution_count": 1,
   "metadata": {},
   "outputs": [
    {
     "name": "stdout",
     "output_type": "stream",
     "text": [
      "Deret Fibonacci\n",
      "0 1 1 "
     ]
    }
   ],
   "source": [
    "# Rekursi Fibonacci\n",
    "def fibonacci(n):\n",
    "   if n == 0 or n == 1:\n",
    "      return n\n",
    "   else:\n",
    "      return (fibonacci(n-1) + fibonacci(n-2))\n",
    "\n",
    "x = int(input(\"Masukan Batas Deret Bilangan Fibonacci : \"))\n",
    "print(\"Deret Fibonacci\")\n",
    "for i in range(x):\n",
    "   print(fibonacci(i),end=' ')"
   ]
  }
 ],
 "metadata": {
  "kernelspec": {
   "display_name": "Python 3",
   "language": "python",
   "name": "python3"
  },
  "language_info": {
   "codemirror_mode": {
    "name": "ipython",
    "version": 3
   },
   "file_extension": ".py",
   "mimetype": "text/x-python",
   "name": "python",
   "nbconvert_exporter": "python",
   "pygments_lexer": "ipython3",
   "version": "3.9.1"
  },
  "orig_nbformat": 4
 },
 "nbformat": 4,
 "nbformat_minor": 2
}
